{
 "cells": [
  {
   "cell_type": "code",
   "execution_count": 51,
   "metadata": {},
   "outputs": [
    {
     "name": "stdout",
     "output_type": "stream",
     "text": [
      "One\n"
     ]
    }
   ],
   "source": [
    "msg = 1\n",
    "if msg==5:\n",
    "    print (\"print five\")\n",
    "elif msg==1:\n",
    "    print (\"One\")\n",
    "else:\n",
    "    print (\"jdiuehfi\")\n",
    "\n",
    "    \n",
    "\n",
    "\n",
    "\n"
   ]
  },
  {
   "cell_type": "code",
   "execution_count": 54,
   "metadata": {},
   "outputs": [
    {
     "name": "stdout",
     "output_type": "stream",
     "text": [
      "Sunday\n"
     ]
    }
   ],
   "source": [
    "a = float(input(\"Write a number\"))\n",
    "if a==1:\n",
    "    print(\"Sunday\")\n",
    "elif a==2:\n",
    "    print(\"Monday\")\n",
    "elif a==3:\n",
    "    print(\"Tuesday\")\n",
    "elif a==4:\n",
    "    print (\"Wednesday\")\n",
    "elif a==5:\n",
    "    print(\"Thursday\")\n",
    "elif a==6:\n",
    "    print(\"Friday\")\n",
    "elif a==7:\n",
    "    print(\"Saturday\")\n",
    "else:\n",
    "    print(\"Please choose from number 1-7\")\n"
   ]
  },
  {
   "cell_type": "code",
   "execution_count": 53,
   "metadata": {},
   "outputs": [
    {
     "data": {
      "text/plain": [
       "int"
      ]
     },
     "execution_count": 53,
     "metadata": {},
     "output_type": "execute_result"
    }
   ],
   "source": [
    "type(msg) #This is a comment"
   ]
  },
  {
   "cell_type": "code",
   "execution_count": 67,
   "metadata": {},
   "outputs": [
    {
     "data": {
      "text/plain": [
       "'a'"
      ]
     },
     "execution_count": 67,
     "metadata": {},
     "output_type": "execute_result"
    }
   ],
   "source": [
    "msg=\"I am Prajwal\"\n",
    "msg[-2]"
   ]
  },
  {
   "cell_type": "code",
   "execution_count": 62,
   "metadata": {},
   "outputs": [
    {
     "name": "stdout",
     "output_type": "stream",
     "text": [
      "12\n",
      "10\n"
     ]
    }
   ],
   "source": [
    "print(len(msg))\n",
    "print(len(\"my name is\"))"
   ]
  },
  {
   "cell_type": "code",
   "execution_count": 63,
   "metadata": {},
   "outputs": [
    {
     "name": "stdout",
     "output_type": "stream",
     "text": [
      "12\n",
      "10\n"
     ]
    }
   ],
   "source": [
    "print(len(msg))\n",
    "print(len(\"my name is\"))\n"
   ]
  },
  {
   "cell_type": "code",
   "execution_count": 68,
   "metadata": {},
   "outputs": [
    {
     "name": "stdout",
     "output_type": "stream",
     "text": [
      "I\n",
      " \n",
      "a\n",
      "m\n",
      " \n",
      "P\n",
      "r\n",
      "a\n",
      "j\n",
      "w\n",
      "a\n",
      "l\n"
     ]
    }
   ],
   "source": [
    "for i in msg:\n",
    "    print(i)"
   ]
  },
  {
   "cell_type": "code",
   "execution_count": 69,
   "metadata": {},
   "outputs": [
    {
     "data": {
      "text/plain": [
       "'I AM PRAJWAL'"
      ]
     },
     "execution_count": 69,
     "metadata": {},
     "output_type": "execute_result"
    }
   ],
   "source": [
    "msg.upper()"
   ]
  },
  {
   "cell_type": "code",
   "execution_count": 70,
   "metadata": {},
   "outputs": [
    {
     "data": {
      "text/plain": [
       "'i am prajwal'"
      ]
     },
     "execution_count": 70,
     "metadata": {},
     "output_type": "execute_result"
    }
   ],
   "source": [
    "msg.lower()"
   ]
  },
  {
   "cell_type": "code",
   "execution_count": 72,
   "metadata": {},
   "outputs": [
    {
     "name": "stdout",
     "output_type": "stream",
     "text": [
      "I am Prajwal\n"
     ]
    }
   ],
   "source": [
    "print(msg)"
   ]
  },
  {
   "cell_type": "code",
   "execution_count": 73,
   "metadata": {},
   "outputs": [
    {
     "name": "stdout",
     "output_type": "stream",
     "text": [
      "i AM pRAJWAL\n"
     ]
    }
   ],
   "source": [
    "print(msg.swapcase())"
   ]
  },
  {
   "cell_type": "markdown",
   "metadata": {},
   "source": [
    "strip(), split(), format()"
   ]
  },
  {
   "cell_type": "code",
   "execution_count": 75,
   "metadata": {},
   "outputs": [
    {
     "name": "stdout",
     "output_type": "stream",
     "text": [
      "20\n",
      "3\n"
     ]
    }
   ],
   "source": [
    "name = \"        abc         \" #To remove the empty spaces\n",
    "print(len(name))\n",
    "print(len(name.strip()))      #Strip will remove the empty spaces"
   ]
  },
  {
   "cell_type": "markdown",
   "metadata": {},
   "source": [
    "/t   /n"
   ]
  },
  {
   "cell_type": "code",
   "execution_count": 83,
   "metadata": {},
   "outputs": [
    {
     "name": "stdout",
     "output_type": "stream",
     "text": [
      "I\tam\tprajwal\n"
     ]
    }
   ],
   "source": [
    "name =\"I\\tam\\tprajwal\"\n",
    "print(name)"
   ]
  },
  {
   "cell_type": "code",
   "execution_count": 107,
   "metadata": {},
   "outputs": [
    {
     "name": "stdout",
     "output_type": "stream",
     "text": [
      "['2', '3', '5', '7', '2', '8']\n",
      "2 <class 'str'> 2 <class 'int'>\n",
      "3 <class 'str'> 3 <class 'int'>\n",
      "5 <class 'str'> 5 <class 'int'>\n",
      "7 <class 'str'> 7 <class 'int'>\n",
      "2 <class 'str'> 2 <class 'int'>\n",
      "8 <class 'str'> 8 <class 'int'>\n",
      "27\n"
     ]
    }
   ],
   "source": [
    "numbers = \"2,3,5,7,2,8\"\n",
    "nos=(numbers.split(','))\n",
    "print(nos)\n",
    "sum=0\n",
    "for item in nos:\n",
    "    temp = int(item)\n",
    "    sum=sum+temp\n",
    "    print(item,type(item),temp,type(temp))\n",
    "print(sum)"
   ]
  },
  {
   "cell_type": "code",
   "execution_count": 113,
   "metadata": {},
   "outputs": [
    {
     "name": "stdout",
     "output_type": "stream",
     "text": [
      "your username is: sad, password is: fgf and server name is :kjh\n"
     ]
    }
   ],
   "source": [
    "name = input(\"Enter the name\")\n",
    "Password = input(\"Enter a password\")\n",
    "server = input(\"Input a server name\")\n",
    "print(\"your username is: {}, password is: {} and server name is :{}\".format(name,Password,server))\n"
   ]
  },
  {
   "cell_type": "markdown",
   "metadata": {},
   "source": [
    "For Loop"
   ]
  },
  {
   "cell_type": "code",
   "execution_count": 120,
   "metadata": {},
   "outputs": [
    {
     "name": "stdout",
     "output_type": "stream",
     "text": [
      "10\n",
      "11\n",
      "12\n",
      "13\n",
      "14\n",
      "15\n",
      "16\n",
      "17\n",
      "18\n",
      "19\n"
     ]
    }
   ],
   "source": [
    "for i in range(10,20,1):\n",
    "    print(i)\n"
   ]
  },
  {
   "cell_type": "code",
   "execution_count": 121,
   "metadata": {},
   "outputs": [
    {
     "name": "stdout",
     "output_type": "stream",
     "text": [
      "30\n"
     ]
    }
   ],
   "source": [
    "# find the sum of n multiples of 2 where n is user input\n",
    "\n",
    "n = int(input(\"write a number\"))\n",
    "sum=0\n",
    "for i in range(2,n+1,2):\n",
    "    sum=sum+i\n",
    "print(sum)"
   ]
  },
  {
   "cell_type": "markdown",
   "metadata": {},
   "source": [
    "List"
   ]
  },
  {
   "cell_type": "code",
   "execution_count": 123,
   "metadata": {},
   "outputs": [
    {
     "name": "stdout",
     "output_type": "stream",
     "text": [
      "['abc', 'hff', 23, 23.67, 'suebv']\n"
     ]
    }
   ],
   "source": [
    "nlist= [\"abc\",\"hff\",23, 23.67,\"suebv\"]\n",
    "print(nlist)"
   ]
  },
  {
   "cell_type": "code",
   "execution_count": 124,
   "metadata": {},
   "outputs": [
    {
     "name": "stdout",
     "output_type": "stream",
     "text": [
      "hff\n"
     ]
    },
    {
     "data": {
      "text/plain": [
       "4"
      ]
     },
     "execution_count": 124,
     "metadata": {},
     "output_type": "execute_result"
    }
   ],
   "source": [
    "nlist= [\"abc\",\"hff\",23, 23.67,\"suebv\"]\n",
    "print(nlist[1])\n",
    "nlist.index(\"suebv\")"
   ]
  },
  {
   "cell_type": "markdown",
   "metadata": {},
   "source": [
    "List"
   ]
  },
  {
   "cell_type": "code",
   "execution_count": 126,
   "metadata": {},
   "outputs": [
    {
     "name": "stdout",
     "output_type": "stream",
     "text": [
      "four\n"
     ]
    }
   ],
   "source": [
    "listex = [\"one\",\"two\",\"three\",\"four\"]\n",
    "print(listex[3])"
   ]
  },
  {
   "cell_type": "code",
   "execution_count": null,
   "metadata": {},
   "outputs": [],
   "source": [
    "print[listex]"
   ]
  },
  {
   "cell_type": "code",
   "execution_count": 127,
   "metadata": {},
   "outputs": [
    {
     "name": "stdout",
     "output_type": "stream",
     "text": [
      "success\n"
     ]
    }
   ],
   "source": [
    "if \"three\" in listex:\n",
    "    print (\"success\")"
   ]
  },
  {
   "cell_type": "code",
   "execution_count": 130,
   "metadata": {},
   "outputs": [
    {
     "name": "stdout",
     "output_type": "stream",
     "text": [
      "unsucess\n"
     ]
    }
   ],
   "source": [
    "if \"Three\" in listex: #case sensitive\n",
    "    print(\"success\")\n",
    "else:\n",
    "    print (\"unsucess\")"
   ]
  },
  {
   "cell_type": "code",
   "execution_count": 151,
   "metadata": {},
   "outputs": [],
   "source": [
    "listex.append(\"five\") #To add one element"
   ]
  },
  {
   "cell_type": "code",
   "execution_count": 152,
   "metadata": {},
   "outputs": [
    {
     "name": "stdout",
     "output_type": "stream",
     "text": [
      "['one', 'two', 'three', 'four', 'five', 'five', 'five', 'five']\n"
     ]
    }
   ],
   "source": [
    "print(listex)"
   ]
  },
  {
   "cell_type": "code",
   "execution_count": 155,
   "metadata": {},
   "outputs": [
    {
     "data": {
      "text/plain": [
       "'five'"
      ]
     },
     "execution_count": 155,
     "metadata": {},
     "output_type": "execute_result"
    }
   ],
   "source": [
    "listex.pop() #remove one element (Backspace)\n"
   ]
  },
  {
   "cell_type": "code",
   "execution_count": 154,
   "metadata": {},
   "outputs": [
    {
     "name": "stdout",
     "output_type": "stream",
     "text": [
      "['one', 'two', 'three', 'four', 'five', 'five', 'five']\n"
     ]
    }
   ],
   "source": [
    "print(listex)"
   ]
  },
  {
   "cell_type": "code",
   "execution_count": 156,
   "metadata": {},
   "outputs": [
    {
     "data": {
      "text/plain": [
       "'four'"
      ]
     },
     "execution_count": 156,
     "metadata": {},
     "output_type": "execute_result"
    }
   ],
   "source": [
    "listex.pop(3) #list the element to pop"
   ]
  },
  {
   "cell_type": "code",
   "execution_count": 157,
   "metadata": {},
   "outputs": [
    {
     "name": "stdout",
     "output_type": "stream",
     "text": [
      "['one', 'two', 'three', 'five', 'five']\n"
     ]
    }
   ],
   "source": [
    "print(listex)"
   ]
  },
  {
   "cell_type": "code",
   "execution_count": 159,
   "metadata": {},
   "outputs": [],
   "source": [
    "listex.remove(\"one\") #remove by specifying the string"
   ]
  },
  {
   "cell_type": "code",
   "execution_count": 160,
   "metadata": {},
   "outputs": [
    {
     "name": "stdout",
     "output_type": "stream",
     "text": [
      "['two', 'three', 'five', 'five']\n"
     ]
    }
   ],
   "source": [
    "print(listex)"
   ]
  },
  {
   "cell_type": "code",
   "execution_count": 162,
   "metadata": {},
   "outputs": [
    {
     "data": {
      "text/plain": [
       "4"
      ]
     },
     "execution_count": 162,
     "metadata": {},
     "output_type": "execute_result"
    }
   ],
   "source": [
    "len(listex)"
   ]
  },
  {
   "cell_type": "markdown",
   "metadata": {},
   "source": [
    "sort() | reverse()"
   ]
  },
  {
   "cell_type": "code",
   "execution_count": 168,
   "metadata": {},
   "outputs": [],
   "source": [
    "listex.sort() #if numbers then ascending order if strings then alphabetically"
   ]
  },
  {
   "cell_type": "code",
   "execution_count": 169,
   "metadata": {},
   "outputs": [
    {
     "name": "stdout",
     "output_type": "stream",
     "text": [
      "['five', 'five', 'three', 'two']\n"
     ]
    }
   ],
   "source": [
    "print(listex)"
   ]
  },
  {
   "cell_type": "code",
   "execution_count": 172,
   "metadata": {},
   "outputs": [],
   "source": [
    "listex.reverse() #to reverse the order"
   ]
  },
  {
   "cell_type": "code",
   "execution_count": 171,
   "metadata": {},
   "outputs": [
    {
     "name": "stdout",
     "output_type": "stream",
     "text": [
      "['two', 'three', 'five', 'five']\n"
     ]
    }
   ],
   "source": [
    "print(listex)"
   ]
  },
  {
   "cell_type": "markdown",
   "metadata": {},
   "source": [
    "https://pravi.co/ to understand programming (visual and python)"
   ]
  },
  {
   "cell_type": "markdown",
   "metadata": {},
   "source": [
    "Functions"
   ]
  },
  {
   "cell_type": "code",
   "execution_count": 204,
   "metadata": {},
   "outputs": [],
   "source": [
    "def fname(name):\n",
    "    print(\"I am your first function..\",name)\n",
    "    retVal = \"Success\"\n",
    "    return retVal, True"
   ]
  },
  {
   "cell_type": "code",
   "execution_count": 205,
   "metadata": {},
   "outputs": [
    {
     "name": "stdout",
     "output_type": "stream",
     "text": [
      "I am your first function.. Prajwal\n",
      "Success True\n"
     ]
    }
   ],
   "source": [
    "status, flag = fname(name) #to call the function\n",
    "print(status, flag)\n"
   ]
  },
  {
   "cell_type": "code",
   "execution_count": 206,
   "metadata": {},
   "outputs": [
    {
     "name": "stdout",
     "output_type": "stream",
     "text": [
      "I am your first function.. Prajwal\n",
      "Success True\n"
     ]
    }
   ],
   "source": [
    "name = \"Prajwal\"\n",
    "status, flag = fname(name) #to call the function\n",
    "print(status, flag)\n"
   ]
  },
  {
   "cell_type": "markdown",
   "metadata": {},
   "source": [
    "Define a function that takes in a list of numbers & return the sum of numbers. (without any pre defined function)"
   ]
  },
  {
   "cell_type": "code",
   "execution_count": 242,
   "metadata": {},
   "outputs": [],
   "source": [
    "def sum(n):\n",
    "    sum=0\n",
    "    for item in n:\n",
    "        sum=sum+item\n",
    "    return sum"
   ]
  },
  {
   "cell_type": "code",
   "execution_count": 243,
   "metadata": {},
   "outputs": [
    {
     "data": {
      "text/plain": [
       "21"
      ]
     },
     "execution_count": 243,
     "metadata": {},
     "output_type": "execute_result"
    }
   ],
   "source": [
    "sum([1,2,3,4,5,6])"
   ]
  },
  {
   "cell_type": "code",
   "execution_count": 245,
   "metadata": {},
   "outputs": [
    {
     "name": "stdout",
     "output_type": "stream",
     "text": [
      "1\n",
      "2\n",
      "3\n",
      "4\n",
      "5\n"
     ]
    }
   ],
   "source": [
    "lst=[1,2,3,4,5]\n",
    "for item in range(0,len(lst),1):\n",
    "    print(lst[item])\n",
    "                             "
   ]
  },
  {
   "cell_type": "markdown",
   "metadata": {},
   "source": [
    "Ask user to enter value seperated by ','"
   ]
  },
  {
   "cell_type": "code",
   "execution_count": 255,
   "metadata": {},
   "outputs": [
    {
     "name": "stdout",
     "output_type": "stream",
     "text": [
      "sum:  10\n"
     ]
    }
   ],
   "source": [
    "def sumlistfn(lst):\n",
    "    sum = 0\n",
    "    # logic to sum the numbers in the list\n",
    "    for item in lst:\n",
    "        sum += int(item)\n",
    "    return sum\n",
    "\n",
    "userInput = input(\"Enter a list of numbers separated via comma\")\n",
    "# 2, 3, 4, 5, 6, 7, 10, 23\n",
    "array = userInput.strip().split(',')\n",
    "# [\"2\",\"3\",\"4\",\"5\",\"6\",\"7\",\"10\",\"23\"]\n",
    "sum = sumlistfn(array)\n",
    "print(\"sum: \",sum)\n",
    "\n"
   ]
  },
  {
   "cell_type": "markdown",
   "metadata": {},
   "source": [
    "Count the number odd and even numbers in the list and print the odd numbers count & even numbers count along with the numbers\n",
    "\n",
    "You will have a function that will take a list of numbers, then returns the count of odd numbers and even numbers and the new list of odd numbers and even numbers"
   ]
  },
  {
   "cell_type": "code",
   "execution_count": 268,
   "metadata": {},
   "outputs": [
    {
     "name": "stdout",
     "output_type": "stream",
     "text": [
      "1 number is odd\n",
      "22 the number is even\n",
      "3333 number is odd\n",
      "4 the number is even\n",
      "4 the number is even\n",
      "4 the number is even\n",
      "5 number is odd\n",
      "Count of odd numbers: 3\n",
      "Count of even numbers: 4\n"
     ]
    }
   ],
   "source": [
    "def odd_even(n):\n",
    "    eventCounter = 0\n",
    "    oddCounter = 0\n",
    "    \n",
    "    for item in n:\n",
    "        num = int(item.strip())  # Convert each item to an integer\n",
    "        \n",
    "        if num % 2 == 0:\n",
    "            print(num, \"the number is even\")\n",
    "            eventCounter += 1\n",
    "        else:\n",
    "            print(num, \"number is odd\")\n",
    "            oddCounter += 1\n",
    "    \n",
    "    return oddCounter, eventCounter  # Return both counters\n",
    "\n",
    "userinput = input(\"enter the numbers separated by commas: \")\n",
    "arr = userinput.split(',')\n",
    "oddCount, evenCount = odd_even(arr)  # Get the counters\n",
    "\n",
    "print(\"Count of odd numbers:\", oddCount)\n",
    "print(\"Count of even numbers:\", evenCount)\n"
   ]
  },
  {
   "cell_type": "markdown",
   "metadata": {},
   "source": [
    "\n",
    "1. `def odd_even(n):` starts the definition of a function named `odd_even` that takes one argument, `n`, which should be a list of numbers.\n",
    "\n",
    "2. `eventCounter` and `oddCounter` are initialized to keep track of the counts of even and odd numbers.\n",
    "\n",
    "3. The `for item in n:` loop iterates through each item in the input list `n`.\n",
    "\n",
    "4. `num = int(item.strip())` converts the current item (a string) to an integer. The `strip()` function removes any leading or trailing spaces from the string.\n",
    "\n",
    "5. The `if num % 2 == 0:` statement checks if the current number is even by using the modulo operator (`%`) to check if the remainder of the division by 2 is 0.\n",
    "\n",
    "6. Depending on whether the number is even or odd, the respective counter is incremented (`eventCounter` for even and `oddCounter` for odd).\n",
    "\n",
    "7. Finally, the `oddCounter` and `eventCounter` are returned from the function.\n",
    "\n",
    "8. The user is prompted to input a list of numbers separated by commas.\n",
    "\n",
    "9. The input string is split into individual numbers using `.split(',')`.\n",
    "\n",
    "10. The `odd_even` function is called with the list of numbers, and the returned counters are stored in `oddCount` and `evenCount`.\n",
    "\n",
    "11. The counts of odd and even numbers are printed to the screen.\n",
    "\n"
   ]
  }
 ],
 "metadata": {
  "kernelspec": {
   "display_name": "Python 3",
   "language": "python",
   "name": "python3"
  },
  "language_info": {
   "codemirror_mode": {
    "name": "ipython",
    "version": 3
   },
   "file_extension": ".py",
   "mimetype": "text/x-python",
   "name": "python",
   "nbconvert_exporter": "python",
   "pygments_lexer": "ipython3",
   "version": "3.9.6"
  },
  "orig_nbformat": 4
 },
 "nbformat": 4,
 "nbformat_minor": 2
}

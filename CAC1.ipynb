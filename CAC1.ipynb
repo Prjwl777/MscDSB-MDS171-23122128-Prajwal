{
 "cells": [
  {
   "cell_type": "code",
   "execution_count": 5,
   "metadata": {},
   "outputs": [
    {
     "name": "stdout",
     "output_type": "stream",
     "text": [
      "\n",
      "Patients sorted by risk of cardiac arrest:\n",
      "Name: Rohit, Risk Score: 12\n",
      "Name: jasleen, Risk Score: 5\n"
     ]
    }
   ],
   "source": [
    "patients = []\n",
    "\n",
    "# Function to calculate the risk score for a patient\n",
    "def calculate_risk(patient):\n",
    "    risk_score = 0\n",
    "    if patient[\"diabetes\"]:\n",
    "        risk_score += 2\n",
    "    if patient[\"blood_pressure\"] > 140:\n",
    "        risk_score += 3\n",
    "    if patient[\"cholesterol\"] > 200:\n",
    "        risk_score += 2\n",
    "    if patient[\"previous_history\"]:\n",
    "        risk_score += 5\n",
    "    return risk_score\n",
    "\n",
    "# Prompt the user to enter patient details\n",
    "num_patients = int(input(\"Enter the number of patients: \"))\n",
    "for i in range(num_patients):\n",
    "    name = input(f\"Enter the name of Patient {i + 1}: \")\n",
    "    age = int(input(f\"Enter the age of {name}: \"))\n",
    "    diabetes = input(f\"Does {name} have diabetes? (yes/no): \").lower() == \"yes\"\n",
    "    blood_pressure = int(input(f\"Enter {name}'s blood pressure: \"))\n",
    "    cholesterol = int(input(f\"Enter {name}'s cholesterol level: \"))\n",
    "    previous_history = input(f\"Does {name} have a previous history of cardiac issues? (yes/no): \").lower() == \"yes\"\n",
    "\n",
    "    patient = {\n",
    "        \"name\": name,\n",
    "        \"age\": age,\n",
    "        \"diabetes\": diabetes,\n",
    "        \"blood_pressure\": blood_pressure,\n",
    "        \"cholesterol\": cholesterol,\n",
    "        \"previous_history\": previous_history,\n",
    "    }\n",
    "    patients.append(patient)\n",
    "\n",
    "# Sort the patients based on their risk scores\n",
    "sorted_patients = sorted(patients, key=calculate_risk, reverse=True)\n",
    "\n",
    "# Print the sorted list of patients\n",
    "print(\"\\nPatients sorted by risk of cardiac arrest:\")\n",
    "for patient in sorted_patients:\n",
    "    print(f\"Name: {patient['name']}, Risk Score: {calculate_risk(patient)}\")\n",
    "\n"
   ]
  },
  {
   "cell_type": "code",
   "execution_count": null,
   "metadata": {},
   "outputs": [],
   "source": []
  }
 ],
 "metadata": {
  "kernelspec": {
   "display_name": "Python 3",
   "language": "python",
   "name": "python3"
  },
  "language_info": {
   "codemirror_mode": {
    "name": "ipython",
    "version": 3
   },
   "file_extension": ".py",
   "mimetype": "text/x-python",
   "name": "python",
   "nbconvert_exporter": "python",
   "pygments_lexer": "ipython3",
   "version": "3.9.6"
  },
  "orig_nbformat": 4
 },
 "nbformat": 4,
 "nbformat_minor": 2
}

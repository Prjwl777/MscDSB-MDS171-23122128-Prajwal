{
 "cells": [
  {
   "cell_type": "code",
   "execution_count": 18,
   "metadata": {},
   "outputs": [
    {
     "name": "stdout",
     "output_type": "stream",
     "text": [
      "Mean: 542.94\n",
      "Minimum: 17\n",
      "Maximum: 999\n",
      "Range: 982\n"
     ]
    }
   ],
   "source": [
    "data = [761, 123, 585, 275, 194, 840, 999, 622, 763, 40, 825, 687, 402, 338, 611, 987, 739, 95, 819, 568, 320, 126, 688, 948, 514, 223, 751, 379, 857, 767, 492, 162, 437, 934, 430, 343, 725, 511, 580, 678, 708, 823, 346, 179, 786, 663, 195, 890, 267, 502, 214, 300, 786, 961, 235, 559, 992, 919, 948, 318, 57, 787, 653, 317, 305, 172, 966, 182, 970, 17, 89, 624, 629, 595, 485, 752, 984, 978, 460, 124, 321, 256, 614, 852, 811, 561, 127, 207, 406, 615, 888, 391, 691, 470, 911, 401, 137, 600, 478, 682]\n",
    "\n",
    "def Mean_list(data):\n",
    "    total = 0\n",
    "    count = 0\n",
    "    for i in data:\n",
    "        total += i\n",
    "        count += 1\n",
    "    mean = total / count\n",
    "    return mean\n",
    "\n",
    "def minimum_list(data):\n",
    "    minimum = data[0]\n",
    "    for i in data:\n",
    "        if i < minimum:\n",
    "            minimum = i\n",
    "    return minimum\n",
    "\n",
    "def maximum_list(data):\n",
    "    maximum = data[0]\n",
    "    for i in data:\n",
    "        if i > maximum:\n",
    "            maximum = i\n",
    "    return maximum\n",
    "\n",
    "def range_list(data):\n",
    "    minimum = minimum_list(data)\n",
    "    maximum = maximum_list(data)\n",
    "    range = maximum - minimum\n",
    "    return range\n",
    "\n",
    "print(\"Mean:\", Mean_list(list))\n",
    "print(\"Minimum:\", minimum_list(list))\n",
    "print(\"Maximum:\", maximum_list(list))\n",
    "print(\"Range:\", range_list(list))\n",
    "\n"
   ]
  }
 ],
 "metadata": {
  "kernelspec": {
   "display_name": "Python 3",
   "language": "python",
   "name": "python3"
  },
  "language_info": {
   "codemirror_mode": {
    "name": "ipython",
    "version": 3
   },
   "file_extension": ".py",
   "mimetype": "text/x-python",
   "name": "python",
   "nbconvert_exporter": "python",
   "pygments_lexer": "ipython3",
   "version": "3.9.6"
  },
  "orig_nbformat": 4
 },
 "nbformat": 4,
 "nbformat_minor": 2
}

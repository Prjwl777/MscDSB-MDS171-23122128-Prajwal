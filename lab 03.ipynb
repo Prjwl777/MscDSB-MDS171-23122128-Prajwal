{
 "cells": [
  {
   "cell_type": "code",
   "execution_count": 21,
   "metadata": {},
   "outputs": [
    {
     "name": "stdout",
     "output_type": "stream",
     "text": [
      "Mean: 542.94\n",
      "Minimum: 17\n",
      "Maximum: 999\n",
      "Range: 982\n",
      "Mean is correct\n",
      "Minimum is correct\n",
      "Maximum is correct\n",
      "Range is correct\n"
     ]
    }
   ],
   "source": [
    "# Sample data\n",
    "data = [761, 123, 585, 275, 194, 840, 999, 622, 763, 40, 825, 687, 402, 338, 611, 987, 739, 95, 819, 568, 320, 126, 688, 948, 514, 223, 751, 379, 857, 767, 492, 162, 437, 934, 430, 343, 725, 511, 580, 678, 708, 823, 346, 179, 786, 663, 195, 890, 267, 502, 214, 300, 786, 961, 235, 559, 992, 919, 948, 318, 57, 787, 653, 317, 305, 172, 966, 182, 970, 17, 89, 624, 629, 595, 485, 752, 984, 978, 460, 124, 321, 256, 614, 852, 811, 561, 127, 207, 406, 615, 888, 391, 691, 470, 911, 401, 137, 600, 478, 682]\n",
    "\n",
    "# Calculate mean\n",
    "def calculate_mean(data):\n",
    "    total = sum(data)\n",
    "    count = len(data)\n",
    "    return total / count\n",
    "\n",
    "# Find minimum value\n",
    "def find_minimum(data):\n",
    "    return min(data)\n",
    "\n",
    "# Find maximum value\n",
    "def find_maximum(data):\n",
    "    return max(data)\n",
    "\n",
    "# Calculate range\n",
    "def calculate_range(data):\n",
    "    return max(data) - min(data)\n",
    "\n",
    "# Check the statistics\n",
    "def check_statistics(data):\n",
    "    mean = calculate_mean(data)\n",
    "    minimum = find_minimum(data)\n",
    "    maximum = find_maximum(data)\n",
    "    data_range = calculate_range(data)\n",
    "\n",
    "    print(f\"Mean: {mean}\")\n",
    "    print(f\"Minimum: {minimum}\")\n",
    "    print(f\"Maximum: {maximum}\")\n",
    "    print(f\"Range: {data_range}\")\n",
    "\n",
    "    # Check mean\n",
    "    if mean == calculate_mean(data):\n",
    "        print(\"Mean is correct\")\n",
    "    else:\n",
    "        print(\"Mean is wrong\")\n",
    "\n",
    "    # Check minimum\n",
    "    if minimum == find_minimum(data):\n",
    "        print(\"Minimum is correct\")\n",
    "    else:\n",
    "        print(\"Minimum is wrong\")\n",
    "\n",
    "    # Check maximum\n",
    "    if maximum == find_maximum(data):\n",
    "        print(\"Maximum is correct\")\n",
    "    else:\n",
    "        print(\"Maximum is wrong\")\n",
    "\n",
    "    # Check range\n",
    "    if data_range == calculate_range(data):\n",
    "        print(\"Range is correct\")\n",
    "    else:\n",
    "        print(\"Range is wrong\")\n",
    "\n",
    "# Call the function to check the statistics\n",
    "check_statistics(data)\n"
   ]
  },
  {
   "cell_type": "code",
   "execution_count": null,
   "metadata": {},
   "outputs": [],
   "source": []
  }
 ],
 "metadata": {
  "kernelspec": {
   "display_name": "Python 3",
   "language": "python",
   "name": "python3"
  },
  "language_info": {
   "codemirror_mode": {
    "name": "ipython",
    "version": 3
   },
   "file_extension": ".py",
   "mimetype": "text/x-python",
   "name": "python",
   "nbconvert_exporter": "python",
   "pygments_lexer": "ipython3",
   "version": "3.9.6"
  },
  "orig_nbformat": 4
 },
 "nbformat": 4,
 "nbformat_minor": 2
}

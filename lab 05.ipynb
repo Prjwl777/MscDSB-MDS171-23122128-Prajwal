{
 "cells": [
  {
   "cell_type": "code",
   "execution_count": 19,
   "metadata": {},
   "outputs": [
    {
     "name": "stdout",
     "output_type": "stream",
     "text": [
      "You typed: Doaremon\n",
      "Total vowels: 4\n",
      "Vowel counts:\n",
      "o: 2\n",
      "a: 1\n",
      "e: 1\n",
      "Percentage of vowels: 50.0 %\n",
      "You typed: Shinchan\n",
      "Total vowels: 2\n",
      "Vowel counts:\n",
      "i: 1\n",
      "a: 1\n",
      "Percentage of vowels: 25.0 %\n",
      "You typed: Kazama\n",
      "Total vowels: 3\n",
      "Vowel counts:\n",
      "a: 3\n",
      "Percentage of vowels: 50.0 %\n"
     ]
    }
   ],
   "source": [
    "# Define a function to count vowels in a text\n",
    "def count_vowels(input_text):\n",
    "    # Define the vowels we're looking for\n",
    "    vowels = \"aeiou\"\n",
    "    vowel_count = 0  # Start with a count of 0\n",
    "    vowel_counts = {}  # Create an empty list to store counts for each vowel\n",
    "\n",
    "    # Go through each letter in the text\n",
    "    for char in input_text.lower():\n",
    "        if char in vowels:  # If the letter is a vowel\n",
    "            vowel_count += 1  # Increase the total vowel count by 1\n",
    "            if char in vowel_counts:  # If we've seen this vowel before\n",
    "                vowel_counts[char] += 1  # Increase its count by 1\n",
    "            else:  # If it's the first time we've seen this vowel\n",
    "                vowel_counts[char] = 1  # Start counting it at 1\n",
    "\n",
    "    return vowel_count, vowel_counts  # Return the total vowel count and counts for each vowel\n",
    "\n",
    "# Let's ask the user for input three times\n",
    "for i in range(3):\n",
    "    user_input = input(\"Type something: \")  # Ask the user to type something\n",
    "\n",
    "    # Call the function to count vowels in the user's input\n",
    "    total_vowels, vowel_counts = count_vowels(user_input)\n",
    "\n",
    "    # Calculate the percentage of vowels\n",
    "    total_characters = len(user_input)\n",
    "    vowels_percentage = (total_vowels / total_characters) * 100\n",
    "\n",
    "    # Show the results\n",
    "    print(\"You typed:\", user_input)  # Display what the user typed\n",
    "    print(\"Total vowels:\", total_vowels)  # Display the total vowel count\n",
    "\n",
    "    # Display counts for each vowel\n",
    "    print(\"Vowel counts:\")\n",
    "    for vowel, count in vowel_counts.items():\n",
    "        print(vowel + \":\", count)\n",
    "\n",
    "    print(\"Percentage of vowels:\", vowels_percentage, \"%\")  # Display the percentage\n"
   ]
  },
  {
   "cell_type": "code",
   "execution_count": null,
   "metadata": {},
   "outputs": [],
   "source": []
  }
 ],
 "metadata": {
  "kernelspec": {
   "display_name": "Python 3",
   "language": "python",
   "name": "python3"
  },
  "language_info": {
   "codemirror_mode": {
    "name": "ipython",
    "version": 3
   },
   "file_extension": ".py",
   "mimetype": "text/x-python",
   "name": "python",
   "nbconvert_exporter": "python",
   "pygments_lexer": "ipython3",
   "version": "3.9.6"
  },
  "orig_nbformat": 4
 },
 "nbformat": 4,
 "nbformat_minor": 2
}

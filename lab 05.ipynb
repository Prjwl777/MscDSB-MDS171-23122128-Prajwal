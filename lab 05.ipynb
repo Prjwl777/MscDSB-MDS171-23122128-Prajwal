{
 "cells": [
  {
   "cell_type": "code",
   "execution_count": 13,
   "metadata": {},
   "outputs": [
    {
     "name": "stdout",
     "output_type": "stream",
     "text": [
      "Input 1: doraemon\n",
      "Total vowels: 4\n",
      "Percentage of vowels: 50%\n",
      "Input 2: shinchan\n",
      "Total vowels: 2\n",
      "Percentage of vowels: 25%\n",
      "Input 3: kazama\n",
      "Total vowels: 3\n",
      "Percentage of vowels: 50%\n"
     ]
    }
   ],
   "source": [
    "# Function to count vowels in a given string\n",
    "def count_vowels(input_string):\n",
    "    vowels = \"aeiou\"\n",
    "    vowel_count = 0\n",
    "\n",
    "    # Iterate through each character in the lowercase version of the input string\n",
    "    for char in input_string.lower():\n",
    "        if char in vowels:\n",
    "            vowel_count += 1  # If the character is a vowel, increase the count\n",
    "\n",
    "    return vowel_count  # Return the total vowel count\n",
    "\n",
    "# Loop three times to get input from the user\n",
    "for i in range(3):\n",
    "    # Ask the user to type something\n",
    "    message = \"Enter string \" + str(i + 1) + \": \"\n",
    "    user_input = input(message)  # Get user input and display the message\n",
    "\n",
    "    total_vowels = count_vowels(user_input)  # Count vowels in the input\n",
    "    total_characters = len(user_input)  # Calculate the total number of characters\n",
    "    vowels_percentage = (total_vowels / total_characters) * 100  # Calculate the percentage of vowels\n",
    "\n",
    "    # Print the results\n",
    "    print(\"Input \" + str(i + 1) + \": \" + user_input)  # Display the user's input\n",
    "    print(\"Total vowels:\", total_vowels)  # Display the total vowel count\n",
    "    print(\"Percentage of vowels: \" + str(int(vowels_percentage)) + \"%\") # Display the percentage \n"
   ]
  },
  {
   "cell_type": "code",
   "execution_count": null,
   "metadata": {},
   "outputs": [],
   "source": []
  }
 ],
 "metadata": {
  "kernelspec": {
   "display_name": "Python 3",
   "language": "python",
   "name": "python3"
  },
  "language_info": {
   "codemirror_mode": {
    "name": "ipython",
    "version": 3
   },
   "file_extension": ".py",
   "mimetype": "text/x-python",
   "name": "python",
   "nbconvert_exporter": "python",
   "pygments_lexer": "ipython3",
   "version": "3.9.6"
  },
  "orig_nbformat": 4
 },
 "nbformat": 4,
 "nbformat_minor": 2
}

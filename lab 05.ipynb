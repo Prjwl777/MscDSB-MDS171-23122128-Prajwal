{
 "cells": [
  {
   "cell_type": "code",
   "execution_count": 17,
   "metadata": {},
   "outputs": [
    {
     "name": "stdout",
     "output_type": "stream",
     "text": [
      "You typed: Doraemon\n",
      "Total vowels: 4\n",
      "Vowel counts:\n",
      "a: 1\n",
      "e: 1\n",
      "i: 0\n",
      "o: 2\n",
      "u: 0\n",
      "Percentage of vowels: 50%\n",
      "You typed: Shinchan\n",
      "Total vowels: 2\n",
      "Vowel counts:\n",
      "a: 1\n",
      "e: 0\n",
      "i: 1\n",
      "o: 0\n",
      "u: 0\n",
      "Percentage of vowels: 25%\n",
      "You typed: Kiteretsu\n",
      "Total vowels: 4\n",
      "Vowel counts:\n",
      "a: 0\n",
      "e: 2\n",
      "i: 1\n",
      "o: 0\n",
      "u: 1\n",
      "Percentage of vowels: 44%\n"
     ]
    }
   ],
   "source": [
    "# Function to count vowels in a string\n",
    "def count_vowels(input_string):\n",
    "    # Define the vowels we're looking for\n",
    "    vowels = \"aeiou\"\n",
    "    vowel_count = 0\n",
    "    vowels_dict = {vowel: 0 for vowel in vowels}\n",
    "\n",
    "    # Count the vowels in the input string\n",
    "    for char in input_string.lower():\n",
    "        if char in vowels:\n",
    "            vowel_count += 1  # Increase the count\n",
    "            vowels_dict[char] += 1  # Update the count for this vowel\n",
    "\n",
    "    return vowel_count, vowels_dict  # Return the total vowel count and counts for each vowel\n",
    "\n",
    "# Loop three times to get user input\n",
    "for i in range(3):\n",
    "    # Ask the user to type something\n",
    "    message = \"Enter text \" + str(i + 1) + \": \"\n",
    "    user_input = input(message)\n",
    "\n",
    "    # Count vowels and get a dictionary of counts\n",
    "    total_vowels, vowels_dict = count_vowels(user_input)\n",
    "    total_characters = len(user_input)  # Count total characters\n",
    "    vowels_percentage = (total_vowels / total_characters) * 100  # Calculate the percentage\n",
    "\n",
    "    # Display the results\n",
    "    print(\"You typed: \" + user_input)  # Show the user's input\n",
    "    print(\"Total vowels:\", total_vowels)  # Show the total vowel count\n",
    "\n",
    "    # Show each vowel and its count\n",
    "    print(\"Vowel counts:\")\n",
    "    for vowel, count in vowels_dict.items():\n",
    "        print(vowel + \": \" + str(count))\n",
    "\n",
    "    print(\"Percentage of vowels: \" + str(int(vowels_percentage)) + \"%\")  # Show the percentage\n"
   ]
  },
  {
   "cell_type": "code",
   "execution_count": null,
   "metadata": {},
   "outputs": [],
   "source": []
  }
 ],
 "metadata": {
  "kernelspec": {
   "display_name": "Python 3",
   "language": "python",
   "name": "python3"
  },
  "language_info": {
   "codemirror_mode": {
    "name": "ipython",
    "version": 3
   },
   "file_extension": ".py",
   "mimetype": "text/x-python",
   "name": "python",
   "nbconvert_exporter": "python",
   "pygments_lexer": "ipython3",
   "version": "3.9.6"
  },
  "orig_nbformat": 4
 },
 "nbformat": 4,
 "nbformat_minor": 2
}

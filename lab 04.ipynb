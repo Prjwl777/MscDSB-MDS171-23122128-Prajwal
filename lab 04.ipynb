{
 "cells": [
  {
   "cell_type": "code",
   "execution_count": 7,
   "metadata": {},
   "outputs": [],
   "source": [
    "def shop(name, consumer, phone, price, product):\n",
    "    filename = \"Order.txt\"\n",
    "    \n",
    "    # Open the file in append mode and use a context manager (with statement)\n",
    "    with open(filename, \"a+\") as file:\n",
    "        # Write order details to the file with proper formatting\n",
    "        file.write(\"\\nName: {}\\n\".format(name))\n",
    "        file.write(\"\\nConsumer_no.: {}\\n\".format(consumer))\n",
    "        file.write(\"\\nPhone_no.: {}\\n\".format(phone))\n",
    "        file.write(\"\\nPrice: ${}\\n\".format(price))\n",
    "        file.write(\"\\nProduct: {}\\n\".format(product))\n",
    "\n",
    "# Get user input for order details\n",
    "name = input(\"Enter the name: \")\n",
    "consumer = input(\"Enter the consumer number: \")\n",
    "phone = input(\"Enter the phone number: \")\n",
    "price = input(\"Enter the price of the product: \")\n",
    "product = input(\"Enter the product: \")\n",
    "\n",
    "# Call the shop function to save the order details to the file\n",
    "shop(name, consumer, phone, price, product)\n"
   ]
  }
 ],
 "metadata": {
  "kernelspec": {
   "display_name": "Python 3",
   "language": "python",
   "name": "python3"
  },
  "language_info": {
   "codemirror_mode": {
    "name": "ipython",
    "version": 3
   },
   "file_extension": ".py",
   "mimetype": "text/x-python",
   "name": "python",
   "nbconvert_exporter": "python",
   "pygments_lexer": "ipython3",
   "version": "3.9.6"
  },
  "orig_nbformat": 4
 },
 "nbformat": 4,
 "nbformat_minor": 2
}

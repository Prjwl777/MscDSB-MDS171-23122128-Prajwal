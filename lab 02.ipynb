{
 "cells": [
  {
   "cell_type": "code",
   "execution_count": 2,
   "metadata": {},
   "outputs": [
    {
     "name": "stdout",
     "output_type": "stream",
     "text": [
      "1777OneSevenSevenSeven\n"
     ]
    }
   ],
   "source": [
    "Alice_input = int(input(\"Enter a number: \"))\n",
    "Number_names = [\n",
    "    \"Zero\",\n",
    "    \"One\",\n",
    "    \"Two\",\n",
    "    \"Three\",\n",
    "    \"Four\",\n",
    "    \"Five\",\n",
    "    \"Six\",\n",
    "    \"Seven\",\n",
    "    \"Eight\",\n",
    "    \"Nine\"\n",
    "]\n",
    "Alice_input_str = str(Alice_input)\n",
    "\n",
    "output_list = []\n",
    "for i in Alice_input_str:\n",
    "    digit = int(i)\n",
    "    if 0 <= digit <= 9:\n",
    "        output_list.append(Number_names[digit])\n",
    "\n",
    "output = ''.join(output_list)\n",
    "print(Alice_input_str + output)\n"
   ]
  },
  {
   "cell_type": "code",
   "execution_count": null,
   "metadata": {},
   "outputs": [],
   "source": []
  }
 ],
 "metadata": {
  "kernelspec": {
   "display_name": "Python 3",
   "language": "python",
   "name": "python3"
  },
  "language_info": {
   "codemirror_mode": {
    "name": "ipython",
    "version": 3
   },
   "file_extension": ".py",
   "mimetype": "text/x-python",
   "name": "python",
   "nbconvert_exporter": "python",
   "pygments_lexer": "ipython3",
   "version": "3.9.6"
  },
  "orig_nbformat": 4
 },
 "nbformat": 4,
 "nbformat_minor": 2
}

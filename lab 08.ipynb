{
 "cells": [
  {
   "cell_type": "code",
   "execution_count": 7,
   "metadata": {},
   "outputs": [
    {
     "name": "stdout",
     "output_type": "stream",
     "text": [
      "3\n",
      "3\n",
      "2\n",
      "[1, 2]\n"
     ]
    }
   ],
   "source": [
    "class Stack:\n",
    "    def __init__(self):\n",
    "        self.items = []  # initialize an empty list to store the stack elements\n",
    "\n",
    "    def push(self, item):\n",
    "        self.items.append(item)  # add new elements to the end of the list using the 'append' method\n",
    "\n",
    "    def pop(self):\n",
    "        if not self.is_empty():\n",
    "            return self.items.pop()  # remove and return the last element in the list using the 'pop' method\n",
    "\n",
    "    def print_stack(self):\n",
    "        print(self.items)  # print the entire stack using the 'print' statement\n",
    "\n",
    "    def size(self):\n",
    "        return len(self.items)  # return the number of elements in the stack using the 'len' function\n",
    "\n",
    "    def top(self):\n",
    "        if not self.is_empty():\n",
    "            return self.items[-1]  # return the last element in the list without removing it using the '-1' index\n",
    "\n",
    "    def is_empty(self):\n",
    "        return len(self.items) == 0  # return True if the stack is empty, otherwise False\n",
    "\n",
    "# Example usage\n",
    "s = Stack()\n",
    "\n",
    "s.push(1)  # add the integer 1 to the top of the stack\n",
    "s.push(2)  # add the integer 2 to the top of the stack\n",
    "s.push(3)  # add the integer 3 to the top of the stack\n",
    "\n",
    "print(s.top())  # print the top element of the stack, which is 3\n",
    "\n",
    "print(s.pop())  # remove and return the top element of the stack, which is 3\n",
    "\n",
    "print(s.size())  # print the number of elements in the stack, which is 2\n",
    "\n",
    "s.print_stack()  # print the entire stack, which is [1, 2]"
   ]
  },
  {
   "cell_type": "code",
   "execution_count": null,
   "metadata": {},
   "outputs": [],
   "source": []
  }
 ],
 "metadata": {
  "kernelspec": {
   "display_name": "Python 3",
   "language": "python",
   "name": "python3"
  },
  "language_info": {
   "codemirror_mode": {
    "name": "ipython",
    "version": 3
   },
   "file_extension": ".py",
   "mimetype": "text/x-python",
   "name": "python",
   "nbconvert_exporter": "python",
   "pygments_lexer": "ipython3",
   "version": "3.9.6"
  },
  "orig_nbformat": 4
 },
 "nbformat": 4,
 "nbformat_minor": 2
}
